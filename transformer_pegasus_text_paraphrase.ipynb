{
  "nbformat": 4,
  "nbformat_minor": 0,
  "metadata": {
    "colab": {
      "name": "transformer_pegasus_text_paraphrase.ipynb",
      "provenance": [],
      "collapsed_sections": [],
      "authorship_tag": "ABX9TyPYf941ntTvhVCZnBunl5KN",
      "include_colab_link": true
    },
    "kernelspec": {
      "name": "python3",
      "display_name": "Python 3"
    },
    "language_info": {
      "name": "python"
    },
    "accelerator": "GPU",
    "widgets": {
      "application/vnd.jupyter.widget-state+json": {
        "b2df8daf71774726a90f769768e8ee87": {
          "model_module": "@jupyter-widgets/controls",
          "model_name": "HBoxModel",
          "state": {
            "_view_name": "HBoxView",
            "_dom_classes": [],
            "_model_name": "HBoxModel",
            "_view_module": "@jupyter-widgets/controls",
            "_model_module_version": "1.5.0",
            "_view_count": null,
            "_view_module_version": "1.5.0",
            "box_style": "",
            "layout": "IPY_MODEL_804942540f774701957425ccbf152da8",
            "_model_module": "@jupyter-widgets/controls",
            "children": [
              "IPY_MODEL_122683e2aa8245b59251feb0f037c390",
              "IPY_MODEL_7b0897f585c347c3aa59c03e89ef4874"
            ]
          }
        },
        "804942540f774701957425ccbf152da8": {
          "model_module": "@jupyter-widgets/base",
          "model_name": "LayoutModel",
          "state": {
            "_view_name": "LayoutView",
            "grid_template_rows": null,
            "right": null,
            "justify_content": null,
            "_view_module": "@jupyter-widgets/base",
            "overflow": null,
            "_model_module_version": "1.2.0",
            "_view_count": null,
            "flex_flow": null,
            "width": null,
            "min_width": null,
            "border": null,
            "align_items": null,
            "bottom": null,
            "_model_module": "@jupyter-widgets/base",
            "top": null,
            "grid_column": null,
            "overflow_y": null,
            "overflow_x": null,
            "grid_auto_flow": null,
            "grid_area": null,
            "grid_template_columns": null,
            "flex": null,
            "_model_name": "LayoutModel",
            "justify_items": null,
            "grid_row": null,
            "max_height": null,
            "align_content": null,
            "visibility": null,
            "align_self": null,
            "height": null,
            "min_height": null,
            "padding": null,
            "grid_auto_rows": null,
            "grid_gap": null,
            "max_width": null,
            "order": null,
            "_view_module_version": "1.2.0",
            "grid_template_areas": null,
            "object_position": null,
            "object_fit": null,
            "grid_auto_columns": null,
            "margin": null,
            "display": null,
            "left": null
          }
        },
        "122683e2aa8245b59251feb0f037c390": {
          "model_module": "@jupyter-widgets/controls",
          "model_name": "FloatProgressModel",
          "state": {
            "_view_name": "ProgressView",
            "style": "IPY_MODEL_9872397c9ce648b2b763083374e2e9db",
            "_dom_classes": [],
            "description": "Downloading: 100%",
            "_model_name": "FloatProgressModel",
            "bar_style": "success",
            "max": 1912529,
            "_view_module": "@jupyter-widgets/controls",
            "_model_module_version": "1.5.0",
            "value": 1912529,
            "_view_count": null,
            "_view_module_version": "1.5.0",
            "orientation": "horizontal",
            "min": 0,
            "description_tooltip": null,
            "_model_module": "@jupyter-widgets/controls",
            "layout": "IPY_MODEL_4bee85289c3c4f3db720fd931ffb647f"
          }
        },
        "7b0897f585c347c3aa59c03e89ef4874": {
          "model_module": "@jupyter-widgets/controls",
          "model_name": "HTMLModel",
          "state": {
            "_view_name": "HTMLView",
            "style": "IPY_MODEL_3c3ce7cec7bc4b66bb7c99a05fd339b5",
            "_dom_classes": [],
            "description": "",
            "_model_name": "HTMLModel",
            "placeholder": "​",
            "_view_module": "@jupyter-widgets/controls",
            "_model_module_version": "1.5.0",
            "value": " 1.91M/1.91M [00:50&lt;00:00, 38.1kB/s]",
            "_view_count": null,
            "_view_module_version": "1.5.0",
            "description_tooltip": null,
            "_model_module": "@jupyter-widgets/controls",
            "layout": "IPY_MODEL_e10346711e564934ac0878ff2acc2493"
          }
        },
        "9872397c9ce648b2b763083374e2e9db": {
          "model_module": "@jupyter-widgets/controls",
          "model_name": "ProgressStyleModel",
          "state": {
            "_view_name": "StyleView",
            "_model_name": "ProgressStyleModel",
            "description_width": "initial",
            "_view_module": "@jupyter-widgets/base",
            "_model_module_version": "1.5.0",
            "_view_count": null,
            "_view_module_version": "1.2.0",
            "bar_color": null,
            "_model_module": "@jupyter-widgets/controls"
          }
        },
        "4bee85289c3c4f3db720fd931ffb647f": {
          "model_module": "@jupyter-widgets/base",
          "model_name": "LayoutModel",
          "state": {
            "_view_name": "LayoutView",
            "grid_template_rows": null,
            "right": null,
            "justify_content": null,
            "_view_module": "@jupyter-widgets/base",
            "overflow": null,
            "_model_module_version": "1.2.0",
            "_view_count": null,
            "flex_flow": null,
            "width": null,
            "min_width": null,
            "border": null,
            "align_items": null,
            "bottom": null,
            "_model_module": "@jupyter-widgets/base",
            "top": null,
            "grid_column": null,
            "overflow_y": null,
            "overflow_x": null,
            "grid_auto_flow": null,
            "grid_area": null,
            "grid_template_columns": null,
            "flex": null,
            "_model_name": "LayoutModel",
            "justify_items": null,
            "grid_row": null,
            "max_height": null,
            "align_content": null,
            "visibility": null,
            "align_self": null,
            "height": null,
            "min_height": null,
            "padding": null,
            "grid_auto_rows": null,
            "grid_gap": null,
            "max_width": null,
            "order": null,
            "_view_module_version": "1.2.0",
            "grid_template_areas": null,
            "object_position": null,
            "object_fit": null,
            "grid_auto_columns": null,
            "margin": null,
            "display": null,
            "left": null
          }
        },
        "3c3ce7cec7bc4b66bb7c99a05fd339b5": {
          "model_module": "@jupyter-widgets/controls",
          "model_name": "DescriptionStyleModel",
          "state": {
            "_view_name": "StyleView",
            "_model_name": "DescriptionStyleModel",
            "description_width": "",
            "_view_module": "@jupyter-widgets/base",
            "_model_module_version": "1.5.0",
            "_view_count": null,
            "_view_module_version": "1.2.0",
            "_model_module": "@jupyter-widgets/controls"
          }
        },
        "e10346711e564934ac0878ff2acc2493": {
          "model_module": "@jupyter-widgets/base",
          "model_name": "LayoutModel",
          "state": {
            "_view_name": "LayoutView",
            "grid_template_rows": null,
            "right": null,
            "justify_content": null,
            "_view_module": "@jupyter-widgets/base",
            "overflow": null,
            "_model_module_version": "1.2.0",
            "_view_count": null,
            "flex_flow": null,
            "width": null,
            "min_width": null,
            "border": null,
            "align_items": null,
            "bottom": null,
            "_model_module": "@jupyter-widgets/base",
            "top": null,
            "grid_column": null,
            "overflow_y": null,
            "overflow_x": null,
            "grid_auto_flow": null,
            "grid_area": null,
            "grid_template_columns": null,
            "flex": null,
            "_model_name": "LayoutModel",
            "justify_items": null,
            "grid_row": null,
            "max_height": null,
            "align_content": null,
            "visibility": null,
            "align_self": null,
            "height": null,
            "min_height": null,
            "padding": null,
            "grid_auto_rows": null,
            "grid_gap": null,
            "max_width": null,
            "order": null,
            "_view_module_version": "1.2.0",
            "grid_template_areas": null,
            "object_position": null,
            "object_fit": null,
            "grid_auto_columns": null,
            "margin": null,
            "display": null,
            "left": null
          }
        },
        "5d71e43b15784f0eb81a980b674d1760": {
          "model_module": "@jupyter-widgets/controls",
          "model_name": "HBoxModel",
          "state": {
            "_view_name": "HBoxView",
            "_dom_classes": [],
            "_model_name": "HBoxModel",
            "_view_module": "@jupyter-widgets/controls",
            "_model_module_version": "1.5.0",
            "_view_count": null,
            "_view_module_version": "1.5.0",
            "box_style": "",
            "layout": "IPY_MODEL_2717225702514f8aa76bd1959840981b",
            "_model_module": "@jupyter-widgets/controls",
            "children": [
              "IPY_MODEL_28dd99299b244151bdb1588f2c7f106a",
              "IPY_MODEL_51cbb0f3e7d54de1b9e46f74c8fd5d16"
            ]
          }
        },
        "2717225702514f8aa76bd1959840981b": {
          "model_module": "@jupyter-widgets/base",
          "model_name": "LayoutModel",
          "state": {
            "_view_name": "LayoutView",
            "grid_template_rows": null,
            "right": null,
            "justify_content": null,
            "_view_module": "@jupyter-widgets/base",
            "overflow": null,
            "_model_module_version": "1.2.0",
            "_view_count": null,
            "flex_flow": null,
            "width": null,
            "min_width": null,
            "border": null,
            "align_items": null,
            "bottom": null,
            "_model_module": "@jupyter-widgets/base",
            "top": null,
            "grid_column": null,
            "overflow_y": null,
            "overflow_x": null,
            "grid_auto_flow": null,
            "grid_area": null,
            "grid_template_columns": null,
            "flex": null,
            "_model_name": "LayoutModel",
            "justify_items": null,
            "grid_row": null,
            "max_height": null,
            "align_content": null,
            "visibility": null,
            "align_self": null,
            "height": null,
            "min_height": null,
            "padding": null,
            "grid_auto_rows": null,
            "grid_gap": null,
            "max_width": null,
            "order": null,
            "_view_module_version": "1.2.0",
            "grid_template_areas": null,
            "object_position": null,
            "object_fit": null,
            "grid_auto_columns": null,
            "margin": null,
            "display": null,
            "left": null
          }
        },
        "28dd99299b244151bdb1588f2c7f106a": {
          "model_module": "@jupyter-widgets/controls",
          "model_name": "FloatProgressModel",
          "state": {
            "_view_name": "ProgressView",
            "style": "IPY_MODEL_b145956bd07740658f168c870753138b",
            "_dom_classes": [],
            "description": "Downloading: 100%",
            "_model_name": "FloatProgressModel",
            "bar_style": "success",
            "max": 65,
            "_view_module": "@jupyter-widgets/controls",
            "_model_module_version": "1.5.0",
            "value": 65,
            "_view_count": null,
            "_view_module_version": "1.5.0",
            "orientation": "horizontal",
            "min": 0,
            "description_tooltip": null,
            "_model_module": "@jupyter-widgets/controls",
            "layout": "IPY_MODEL_d6055c69248e4409b6b379bde5aa8b0c"
          }
        },
        "51cbb0f3e7d54de1b9e46f74c8fd5d16": {
          "model_module": "@jupyter-widgets/controls",
          "model_name": "HTMLModel",
          "state": {
            "_view_name": "HTMLView",
            "style": "IPY_MODEL_9f0602a14cc3448e94c129b943cdbb08",
            "_dom_classes": [],
            "description": "",
            "_model_name": "HTMLModel",
            "placeholder": "​",
            "_view_module": "@jupyter-widgets/controls",
            "_model_module_version": "1.5.0",
            "value": " 65.0/65.0 [00:49&lt;00:00, 1.32B/s]",
            "_view_count": null,
            "_view_module_version": "1.5.0",
            "description_tooltip": null,
            "_model_module": "@jupyter-widgets/controls",
            "layout": "IPY_MODEL_0b0fc7ee40fe482f87ade58f1ed34418"
          }
        },
        "b145956bd07740658f168c870753138b": {
          "model_module": "@jupyter-widgets/controls",
          "model_name": "ProgressStyleModel",
          "state": {
            "_view_name": "StyleView",
            "_model_name": "ProgressStyleModel",
            "description_width": "initial",
            "_view_module": "@jupyter-widgets/base",
            "_model_module_version": "1.5.0",
            "_view_count": null,
            "_view_module_version": "1.2.0",
            "bar_color": null,
            "_model_module": "@jupyter-widgets/controls"
          }
        },
        "d6055c69248e4409b6b379bde5aa8b0c": {
          "model_module": "@jupyter-widgets/base",
          "model_name": "LayoutModel",
          "state": {
            "_view_name": "LayoutView",
            "grid_template_rows": null,
            "right": null,
            "justify_content": null,
            "_view_module": "@jupyter-widgets/base",
            "overflow": null,
            "_model_module_version": "1.2.0",
            "_view_count": null,
            "flex_flow": null,
            "width": null,
            "min_width": null,
            "border": null,
            "align_items": null,
            "bottom": null,
            "_model_module": "@jupyter-widgets/base",
            "top": null,
            "grid_column": null,
            "overflow_y": null,
            "overflow_x": null,
            "grid_auto_flow": null,
            "grid_area": null,
            "grid_template_columns": null,
            "flex": null,
            "_model_name": "LayoutModel",
            "justify_items": null,
            "grid_row": null,
            "max_height": null,
            "align_content": null,
            "visibility": null,
            "align_self": null,
            "height": null,
            "min_height": null,
            "padding": null,
            "grid_auto_rows": null,
            "grid_gap": null,
            "max_width": null,
            "order": null,
            "_view_module_version": "1.2.0",
            "grid_template_areas": null,
            "object_position": null,
            "object_fit": null,
            "grid_auto_columns": null,
            "margin": null,
            "display": null,
            "left": null
          }
        },
        "9f0602a14cc3448e94c129b943cdbb08": {
          "model_module": "@jupyter-widgets/controls",
          "model_name": "DescriptionStyleModel",
          "state": {
            "_view_name": "StyleView",
            "_model_name": "DescriptionStyleModel",
            "description_width": "",
            "_view_module": "@jupyter-widgets/base",
            "_model_module_version": "1.5.0",
            "_view_count": null,
            "_view_module_version": "1.2.0",
            "_model_module": "@jupyter-widgets/controls"
          }
        },
        "0b0fc7ee40fe482f87ade58f1ed34418": {
          "model_module": "@jupyter-widgets/base",
          "model_name": "LayoutModel",
          "state": {
            "_view_name": "LayoutView",
            "grid_template_rows": null,
            "right": null,
            "justify_content": null,
            "_view_module": "@jupyter-widgets/base",
            "overflow": null,
            "_model_module_version": "1.2.0",
            "_view_count": null,
            "flex_flow": null,
            "width": null,
            "min_width": null,
            "border": null,
            "align_items": null,
            "bottom": null,
            "_model_module": "@jupyter-widgets/base",
            "top": null,
            "grid_column": null,
            "overflow_y": null,
            "overflow_x": null,
            "grid_auto_flow": null,
            "grid_area": null,
            "grid_template_columns": null,
            "flex": null,
            "_model_name": "LayoutModel",
            "justify_items": null,
            "grid_row": null,
            "max_height": null,
            "align_content": null,
            "visibility": null,
            "align_self": null,
            "height": null,
            "min_height": null,
            "padding": null,
            "grid_auto_rows": null,
            "grid_gap": null,
            "max_width": null,
            "order": null,
            "_view_module_version": "1.2.0",
            "grid_template_areas": null,
            "object_position": null,
            "object_fit": null,
            "grid_auto_columns": null,
            "margin": null,
            "display": null,
            "left": null
          }
        },
        "7337769e834e445796cf731ca3e4d502": {
          "model_module": "@jupyter-widgets/controls",
          "model_name": "HBoxModel",
          "state": {
            "_view_name": "HBoxView",
            "_dom_classes": [],
            "_model_name": "HBoxModel",
            "_view_module": "@jupyter-widgets/controls",
            "_model_module_version": "1.5.0",
            "_view_count": null,
            "_view_module_version": "1.5.0",
            "box_style": "",
            "layout": "IPY_MODEL_ccb0a69f095d4607b84b9e10eca3eae7",
            "_model_module": "@jupyter-widgets/controls",
            "children": [
              "IPY_MODEL_1c0eec587133440c9e4e611a70a4ee1c",
              "IPY_MODEL_6709320557e5437cb9cf149cdb1d3245"
            ]
          }
        },
        "ccb0a69f095d4607b84b9e10eca3eae7": {
          "model_module": "@jupyter-widgets/base",
          "model_name": "LayoutModel",
          "state": {
            "_view_name": "LayoutView",
            "grid_template_rows": null,
            "right": null,
            "justify_content": null,
            "_view_module": "@jupyter-widgets/base",
            "overflow": null,
            "_model_module_version": "1.2.0",
            "_view_count": null,
            "flex_flow": null,
            "width": null,
            "min_width": null,
            "border": null,
            "align_items": null,
            "bottom": null,
            "_model_module": "@jupyter-widgets/base",
            "top": null,
            "grid_column": null,
            "overflow_y": null,
            "overflow_x": null,
            "grid_auto_flow": null,
            "grid_area": null,
            "grid_template_columns": null,
            "flex": null,
            "_model_name": "LayoutModel",
            "justify_items": null,
            "grid_row": null,
            "max_height": null,
            "align_content": null,
            "visibility": null,
            "align_self": null,
            "height": null,
            "min_height": null,
            "padding": null,
            "grid_auto_rows": null,
            "grid_gap": null,
            "max_width": null,
            "order": null,
            "_view_module_version": "1.2.0",
            "grid_template_areas": null,
            "object_position": null,
            "object_fit": null,
            "grid_auto_columns": null,
            "margin": null,
            "display": null,
            "left": null
          }
        },
        "1c0eec587133440c9e4e611a70a4ee1c": {
          "model_module": "@jupyter-widgets/controls",
          "model_name": "FloatProgressModel",
          "state": {
            "_view_name": "ProgressView",
            "style": "IPY_MODEL_24b820166cbb4e9781a58cae2a9d11dd",
            "_dom_classes": [],
            "description": "Downloading: 100%",
            "_model_name": "FloatProgressModel",
            "bar_style": "success",
            "max": 86,
            "_view_module": "@jupyter-widgets/controls",
            "_model_module_version": "1.5.0",
            "value": 86,
            "_view_count": null,
            "_view_module_version": "1.5.0",
            "orientation": "horizontal",
            "min": 0,
            "description_tooltip": null,
            "_model_module": "@jupyter-widgets/controls",
            "layout": "IPY_MODEL_0eedfb28c9b8474a8a5471482d54250a"
          }
        },
        "6709320557e5437cb9cf149cdb1d3245": {
          "model_module": "@jupyter-widgets/controls",
          "model_name": "HTMLModel",
          "state": {
            "_view_name": "HTMLView",
            "style": "IPY_MODEL_24534ce47a494e88979e9b5c50d67361",
            "_dom_classes": [],
            "description": "",
            "_model_name": "HTMLModel",
            "placeholder": "​",
            "_view_module": "@jupyter-widgets/controls",
            "_model_module_version": "1.5.0",
            "value": " 86.0/86.0 [00:01&lt;00:00, 80.2B/s]",
            "_view_count": null,
            "_view_module_version": "1.5.0",
            "description_tooltip": null,
            "_model_module": "@jupyter-widgets/controls",
            "layout": "IPY_MODEL_2b1e385ae3f148aca14235f89cc4fa4b"
          }
        },
        "24b820166cbb4e9781a58cae2a9d11dd": {
          "model_module": "@jupyter-widgets/controls",
          "model_name": "ProgressStyleModel",
          "state": {
            "_view_name": "StyleView",
            "_model_name": "ProgressStyleModel",
            "description_width": "initial",
            "_view_module": "@jupyter-widgets/base",
            "_model_module_version": "1.5.0",
            "_view_count": null,
            "_view_module_version": "1.2.0",
            "bar_color": null,
            "_model_module": "@jupyter-widgets/controls"
          }
        },
        "0eedfb28c9b8474a8a5471482d54250a": {
          "model_module": "@jupyter-widgets/base",
          "model_name": "LayoutModel",
          "state": {
            "_view_name": "LayoutView",
            "grid_template_rows": null,
            "right": null,
            "justify_content": null,
            "_view_module": "@jupyter-widgets/base",
            "overflow": null,
            "_model_module_version": "1.2.0",
            "_view_count": null,
            "flex_flow": null,
            "width": null,
            "min_width": null,
            "border": null,
            "align_items": null,
            "bottom": null,
            "_model_module": "@jupyter-widgets/base",
            "top": null,
            "grid_column": null,
            "overflow_y": null,
            "overflow_x": null,
            "grid_auto_flow": null,
            "grid_area": null,
            "grid_template_columns": null,
            "flex": null,
            "_model_name": "LayoutModel",
            "justify_items": null,
            "grid_row": null,
            "max_height": null,
            "align_content": null,
            "visibility": null,
            "align_self": null,
            "height": null,
            "min_height": null,
            "padding": null,
            "grid_auto_rows": null,
            "grid_gap": null,
            "max_width": null,
            "order": null,
            "_view_module_version": "1.2.0",
            "grid_template_areas": null,
            "object_position": null,
            "object_fit": null,
            "grid_auto_columns": null,
            "margin": null,
            "display": null,
            "left": null
          }
        },
        "24534ce47a494e88979e9b5c50d67361": {
          "model_module": "@jupyter-widgets/controls",
          "model_name": "DescriptionStyleModel",
          "state": {
            "_view_name": "StyleView",
            "_model_name": "DescriptionStyleModel",
            "description_width": "",
            "_view_module": "@jupyter-widgets/base",
            "_model_module_version": "1.5.0",
            "_view_count": null,
            "_view_module_version": "1.2.0",
            "_model_module": "@jupyter-widgets/controls"
          }
        },
        "2b1e385ae3f148aca14235f89cc4fa4b": {
          "model_module": "@jupyter-widgets/base",
          "model_name": "LayoutModel",
          "state": {
            "_view_name": "LayoutView",
            "grid_template_rows": null,
            "right": null,
            "justify_content": null,
            "_view_module": "@jupyter-widgets/base",
            "overflow": null,
            "_model_module_version": "1.2.0",
            "_view_count": null,
            "flex_flow": null,
            "width": null,
            "min_width": null,
            "border": null,
            "align_items": null,
            "bottom": null,
            "_model_module": "@jupyter-widgets/base",
            "top": null,
            "grid_column": null,
            "overflow_y": null,
            "overflow_x": null,
            "grid_auto_flow": null,
            "grid_area": null,
            "grid_template_columns": null,
            "flex": null,
            "_model_name": "LayoutModel",
            "justify_items": null,
            "grid_row": null,
            "max_height": null,
            "align_content": null,
            "visibility": null,
            "align_self": null,
            "height": null,
            "min_height": null,
            "padding": null,
            "grid_auto_rows": null,
            "grid_gap": null,
            "max_width": null,
            "order": null,
            "_view_module_version": "1.2.0",
            "grid_template_areas": null,
            "object_position": null,
            "object_fit": null,
            "grid_auto_columns": null,
            "margin": null,
            "display": null,
            "left": null
          }
        },
        "9cc8ba0dde134b19829fcdc4469cbc64": {
          "model_module": "@jupyter-widgets/controls",
          "model_name": "HBoxModel",
          "state": {
            "_view_name": "HBoxView",
            "_dom_classes": [],
            "_model_name": "HBoxModel",
            "_view_module": "@jupyter-widgets/controls",
            "_model_module_version": "1.5.0",
            "_view_count": null,
            "_view_module_version": "1.5.0",
            "box_style": "",
            "layout": "IPY_MODEL_492c7ea934d6468e93ad163c5c3b9b64",
            "_model_module": "@jupyter-widgets/controls",
            "children": [
              "IPY_MODEL_8e4e3a8322e543bbac7a6e26d8ca8fbd",
              "IPY_MODEL_72fd941d9f85446c81111dfb00e99946"
            ]
          }
        },
        "492c7ea934d6468e93ad163c5c3b9b64": {
          "model_module": "@jupyter-widgets/base",
          "model_name": "LayoutModel",
          "state": {
            "_view_name": "LayoutView",
            "grid_template_rows": null,
            "right": null,
            "justify_content": null,
            "_view_module": "@jupyter-widgets/base",
            "overflow": null,
            "_model_module_version": "1.2.0",
            "_view_count": null,
            "flex_flow": null,
            "width": null,
            "min_width": null,
            "border": null,
            "align_items": null,
            "bottom": null,
            "_model_module": "@jupyter-widgets/base",
            "top": null,
            "grid_column": null,
            "overflow_y": null,
            "overflow_x": null,
            "grid_auto_flow": null,
            "grid_area": null,
            "grid_template_columns": null,
            "flex": null,
            "_model_name": "LayoutModel",
            "justify_items": null,
            "grid_row": null,
            "max_height": null,
            "align_content": null,
            "visibility": null,
            "align_self": null,
            "height": null,
            "min_height": null,
            "padding": null,
            "grid_auto_rows": null,
            "grid_gap": null,
            "max_width": null,
            "order": null,
            "_view_module_version": "1.2.0",
            "grid_template_areas": null,
            "object_position": null,
            "object_fit": null,
            "grid_auto_columns": null,
            "margin": null,
            "display": null,
            "left": null
          }
        },
        "8e4e3a8322e543bbac7a6e26d8ca8fbd": {
          "model_module": "@jupyter-widgets/controls",
          "model_name": "FloatProgressModel",
          "state": {
            "_view_name": "ProgressView",
            "style": "IPY_MODEL_97cc4cafa5684a8a97d7d06421ac38ec",
            "_dom_classes": [],
            "description": "Downloading: 100%",
            "_model_name": "FloatProgressModel",
            "bar_style": "success",
            "max": 1142,
            "_view_module": "@jupyter-widgets/controls",
            "_model_module_version": "1.5.0",
            "value": 1142,
            "_view_count": null,
            "_view_module_version": "1.5.0",
            "orientation": "horizontal",
            "min": 0,
            "description_tooltip": null,
            "_model_module": "@jupyter-widgets/controls",
            "layout": "IPY_MODEL_d5216b813e0f4798a69e9ec2a0a6305b"
          }
        },
        "72fd941d9f85446c81111dfb00e99946": {
          "model_module": "@jupyter-widgets/controls",
          "model_name": "HTMLModel",
          "state": {
            "_view_name": "HTMLView",
            "style": "IPY_MODEL_8e66fc3aab5346a0afd5a803637813ad",
            "_dom_classes": [],
            "description": "",
            "_model_name": "HTMLModel",
            "placeholder": "​",
            "_view_module": "@jupyter-widgets/controls",
            "_model_module_version": "1.5.0",
            "value": " 1.14k/1.14k [00:00&lt;00:00, 4.65kB/s]",
            "_view_count": null,
            "_view_module_version": "1.5.0",
            "description_tooltip": null,
            "_model_module": "@jupyter-widgets/controls",
            "layout": "IPY_MODEL_a57b5f481ad941d2b27eb16bbf0bdfcf"
          }
        },
        "97cc4cafa5684a8a97d7d06421ac38ec": {
          "model_module": "@jupyter-widgets/controls",
          "model_name": "ProgressStyleModel",
          "state": {
            "_view_name": "StyleView",
            "_model_name": "ProgressStyleModel",
            "description_width": "initial",
            "_view_module": "@jupyter-widgets/base",
            "_model_module_version": "1.5.0",
            "_view_count": null,
            "_view_module_version": "1.2.0",
            "bar_color": null,
            "_model_module": "@jupyter-widgets/controls"
          }
        },
        "d5216b813e0f4798a69e9ec2a0a6305b": {
          "model_module": "@jupyter-widgets/base",
          "model_name": "LayoutModel",
          "state": {
            "_view_name": "LayoutView",
            "grid_template_rows": null,
            "right": null,
            "justify_content": null,
            "_view_module": "@jupyter-widgets/base",
            "overflow": null,
            "_model_module_version": "1.2.0",
            "_view_count": null,
            "flex_flow": null,
            "width": null,
            "min_width": null,
            "border": null,
            "align_items": null,
            "bottom": null,
            "_model_module": "@jupyter-widgets/base",
            "top": null,
            "grid_column": null,
            "overflow_y": null,
            "overflow_x": null,
            "grid_auto_flow": null,
            "grid_area": null,
            "grid_template_columns": null,
            "flex": null,
            "_model_name": "LayoutModel",
            "justify_items": null,
            "grid_row": null,
            "max_height": null,
            "align_content": null,
            "visibility": null,
            "align_self": null,
            "height": null,
            "min_height": null,
            "padding": null,
            "grid_auto_rows": null,
            "grid_gap": null,
            "max_width": null,
            "order": null,
            "_view_module_version": "1.2.0",
            "grid_template_areas": null,
            "object_position": null,
            "object_fit": null,
            "grid_auto_columns": null,
            "margin": null,
            "display": null,
            "left": null
          }
        },
        "8e66fc3aab5346a0afd5a803637813ad": {
          "model_module": "@jupyter-widgets/controls",
          "model_name": "DescriptionStyleModel",
          "state": {
            "_view_name": "StyleView",
            "_model_name": "DescriptionStyleModel",
            "description_width": "",
            "_view_module": "@jupyter-widgets/base",
            "_model_module_version": "1.5.0",
            "_view_count": null,
            "_view_module_version": "1.2.0",
            "_model_module": "@jupyter-widgets/controls"
          }
        },
        "a57b5f481ad941d2b27eb16bbf0bdfcf": {
          "model_module": "@jupyter-widgets/base",
          "model_name": "LayoutModel",
          "state": {
            "_view_name": "LayoutView",
            "grid_template_rows": null,
            "right": null,
            "justify_content": null,
            "_view_module": "@jupyter-widgets/base",
            "overflow": null,
            "_model_module_version": "1.2.0",
            "_view_count": null,
            "flex_flow": null,
            "width": null,
            "min_width": null,
            "border": null,
            "align_items": null,
            "bottom": null,
            "_model_module": "@jupyter-widgets/base",
            "top": null,
            "grid_column": null,
            "overflow_y": null,
            "overflow_x": null,
            "grid_auto_flow": null,
            "grid_area": null,
            "grid_template_columns": null,
            "flex": null,
            "_model_name": "LayoutModel",
            "justify_items": null,
            "grid_row": null,
            "max_height": null,
            "align_content": null,
            "visibility": null,
            "align_self": null,
            "height": null,
            "min_height": null,
            "padding": null,
            "grid_auto_rows": null,
            "grid_gap": null,
            "max_width": null,
            "order": null,
            "_view_module_version": "1.2.0",
            "grid_template_areas": null,
            "object_position": null,
            "object_fit": null,
            "grid_auto_columns": null,
            "margin": null,
            "display": null,
            "left": null
          }
        },
        "5493ffaab93d492d85d8b046520778d7": {
          "model_module": "@jupyter-widgets/controls",
          "model_name": "HBoxModel",
          "state": {
            "_view_name": "HBoxView",
            "_dom_classes": [],
            "_model_name": "HBoxModel",
            "_view_module": "@jupyter-widgets/controls",
            "_model_module_version": "1.5.0",
            "_view_count": null,
            "_view_module_version": "1.5.0",
            "box_style": "",
            "layout": "IPY_MODEL_63ca86167dd747f1a51e3a930ad5ecbc",
            "_model_module": "@jupyter-widgets/controls",
            "children": [
              "IPY_MODEL_5f9401c5e73b4f0e82973f7d56b05736",
              "IPY_MODEL_6836f7827c4f4c909bec18c77f631ca4"
            ]
          }
        },
        "63ca86167dd747f1a51e3a930ad5ecbc": {
          "model_module": "@jupyter-widgets/base",
          "model_name": "LayoutModel",
          "state": {
            "_view_name": "LayoutView",
            "grid_template_rows": null,
            "right": null,
            "justify_content": null,
            "_view_module": "@jupyter-widgets/base",
            "overflow": null,
            "_model_module_version": "1.2.0",
            "_view_count": null,
            "flex_flow": null,
            "width": null,
            "min_width": null,
            "border": null,
            "align_items": null,
            "bottom": null,
            "_model_module": "@jupyter-widgets/base",
            "top": null,
            "grid_column": null,
            "overflow_y": null,
            "overflow_x": null,
            "grid_auto_flow": null,
            "grid_area": null,
            "grid_template_columns": null,
            "flex": null,
            "_model_name": "LayoutModel",
            "justify_items": null,
            "grid_row": null,
            "max_height": null,
            "align_content": null,
            "visibility": null,
            "align_self": null,
            "height": null,
            "min_height": null,
            "padding": null,
            "grid_auto_rows": null,
            "grid_gap": null,
            "max_width": null,
            "order": null,
            "_view_module_version": "1.2.0",
            "grid_template_areas": null,
            "object_position": null,
            "object_fit": null,
            "grid_auto_columns": null,
            "margin": null,
            "display": null,
            "left": null
          }
        },
        "5f9401c5e73b4f0e82973f7d56b05736": {
          "model_module": "@jupyter-widgets/controls",
          "model_name": "FloatProgressModel",
          "state": {
            "_view_name": "ProgressView",
            "style": "IPY_MODEL_83c1ac13610e4ae283b21a1f342c2c19",
            "_dom_classes": [],
            "description": "Downloading: 100%",
            "_model_name": "FloatProgressModel",
            "bar_style": "success",
            "max": 2275437102,
            "_view_module": "@jupyter-widgets/controls",
            "_model_module_version": "1.5.0",
            "value": 2275437102,
            "_view_count": null,
            "_view_module_version": "1.5.0",
            "orientation": "horizontal",
            "min": 0,
            "description_tooltip": null,
            "_model_module": "@jupyter-widgets/controls",
            "layout": "IPY_MODEL_0f9af07ea36e4811ad5e50023bc1d5a6"
          }
        },
        "6836f7827c4f4c909bec18c77f631ca4": {
          "model_module": "@jupyter-widgets/controls",
          "model_name": "HTMLModel",
          "state": {
            "_view_name": "HTMLView",
            "style": "IPY_MODEL_b23bcf107b1d4e7faaec135d4e50b525",
            "_dom_classes": [],
            "description": "",
            "_model_name": "HTMLModel",
            "placeholder": "​",
            "_view_module": "@jupyter-widgets/controls",
            "_model_module_version": "1.5.0",
            "value": " 2.28G/2.28G [00:41&lt;00:00, 54.6MB/s]",
            "_view_count": null,
            "_view_module_version": "1.5.0",
            "description_tooltip": null,
            "_model_module": "@jupyter-widgets/controls",
            "layout": "IPY_MODEL_3548ba50c2e04c9a9bee91a96184290b"
          }
        },
        "83c1ac13610e4ae283b21a1f342c2c19": {
          "model_module": "@jupyter-widgets/controls",
          "model_name": "ProgressStyleModel",
          "state": {
            "_view_name": "StyleView",
            "_model_name": "ProgressStyleModel",
            "description_width": "initial",
            "_view_module": "@jupyter-widgets/base",
            "_model_module_version": "1.5.0",
            "_view_count": null,
            "_view_module_version": "1.2.0",
            "bar_color": null,
            "_model_module": "@jupyter-widgets/controls"
          }
        },
        "0f9af07ea36e4811ad5e50023bc1d5a6": {
          "model_module": "@jupyter-widgets/base",
          "model_name": "LayoutModel",
          "state": {
            "_view_name": "LayoutView",
            "grid_template_rows": null,
            "right": null,
            "justify_content": null,
            "_view_module": "@jupyter-widgets/base",
            "overflow": null,
            "_model_module_version": "1.2.0",
            "_view_count": null,
            "flex_flow": null,
            "width": null,
            "min_width": null,
            "border": null,
            "align_items": null,
            "bottom": null,
            "_model_module": "@jupyter-widgets/base",
            "top": null,
            "grid_column": null,
            "overflow_y": null,
            "overflow_x": null,
            "grid_auto_flow": null,
            "grid_area": null,
            "grid_template_columns": null,
            "flex": null,
            "_model_name": "LayoutModel",
            "justify_items": null,
            "grid_row": null,
            "max_height": null,
            "align_content": null,
            "visibility": null,
            "align_self": null,
            "height": null,
            "min_height": null,
            "padding": null,
            "grid_auto_rows": null,
            "grid_gap": null,
            "max_width": null,
            "order": null,
            "_view_module_version": "1.2.0",
            "grid_template_areas": null,
            "object_position": null,
            "object_fit": null,
            "grid_auto_columns": null,
            "margin": null,
            "display": null,
            "left": null
          }
        },
        "b23bcf107b1d4e7faaec135d4e50b525": {
          "model_module": "@jupyter-widgets/controls",
          "model_name": "DescriptionStyleModel",
          "state": {
            "_view_name": "StyleView",
            "_model_name": "DescriptionStyleModel",
            "description_width": "",
            "_view_module": "@jupyter-widgets/base",
            "_model_module_version": "1.5.0",
            "_view_count": null,
            "_view_module_version": "1.2.0",
            "_model_module": "@jupyter-widgets/controls"
          }
        },
        "3548ba50c2e04c9a9bee91a96184290b": {
          "model_module": "@jupyter-widgets/base",
          "model_name": "LayoutModel",
          "state": {
            "_view_name": "LayoutView",
            "grid_template_rows": null,
            "right": null,
            "justify_content": null,
            "_view_module": "@jupyter-widgets/base",
            "overflow": null,
            "_model_module_version": "1.2.0",
            "_view_count": null,
            "flex_flow": null,
            "width": null,
            "min_width": null,
            "border": null,
            "align_items": null,
            "bottom": null,
            "_model_module": "@jupyter-widgets/base",
            "top": null,
            "grid_column": null,
            "overflow_y": null,
            "overflow_x": null,
            "grid_auto_flow": null,
            "grid_area": null,
            "grid_template_columns": null,
            "flex": null,
            "_model_name": "LayoutModel",
            "justify_items": null,
            "grid_row": null,
            "max_height": null,
            "align_content": null,
            "visibility": null,
            "align_self": null,
            "height": null,
            "min_height": null,
            "padding": null,
            "grid_auto_rows": null,
            "grid_gap": null,
            "max_width": null,
            "order": null,
            "_view_module_version": "1.2.0",
            "grid_template_areas": null,
            "object_position": null,
            "object_fit": null,
            "grid_auto_columns": null,
            "margin": null,
            "display": null,
            "left": null
          }
        }
      }
    }
  },
  "cells": [
    {
      "cell_type": "markdown",
      "metadata": {
        "id": "view-in-github",
        "colab_type": "text"
      },
      "source": [
        "<a href=\"https://colab.research.google.com/github/raduga256/transformer_pegasus_text_paraphrase/blob/main/transformer_pegasus_text_paraphrase.ipynb\" target=\"_parent\"><img src=\"https://colab.research.google.com/assets/colab-badge.svg\" alt=\"Open In Colab\"/></a>"
      ]
    },
    {
      "cell_type": "markdown",
      "metadata": {
        "id": "apKST5E4uLw9"
      },
      "source": [
        "## How to paraphrase text using transformers in Python\n",
        "\n",
        "Notes and References:\n",
        "\n",
        "PEGASUS is an acronym for Pre-training with Extracted Gap-sentences for Abstractive SUmmarization Sequence-to-sequence models\n",
        "PEGASUS model used herein is from Huggingface's transformers library\n",
        "PEGASUS model from Google Research\n",
        "Read the original paper PEGASUS: Pre-training with Extracted Gap-sentences for Abstractive Summarization\n",
        "Check out the book Transformers for Natural Language Processing"
      ]
    },
    {
      "cell_type": "markdown",
      "metadata": {
        "id": "WGcf7JG7unjA"
      },
      "source": [
        "##Install Library"
      ]
    },
    {
      "cell_type": "code",
      "metadata": {
        "colab": {
          "base_uri": "https://localhost:8080/"
        },
        "id": "Ipb8nP8ytYI4",
        "outputId": "51da55f3-734b-47de-b69a-d05ee1f8b832"
      },
      "source": [
        "!pip install sentence-splitter\n",
        "# splits the sentences and serve them as individual sentences for inputs"
      ],
      "execution_count": 2,
      "outputs": [
        {
          "output_type": "stream",
          "text": [
            "Collecting sentence-splitter\n",
            "\u001b[?25l  Downloading https://files.pythonhosted.org/packages/4a/ae/3bd609c760d57849d7ddf223762f1881f3c4df6467f4eadb3a33652b7e0d/sentence_splitter-1.4-py2.py3-none-any.whl (44kB)\n",
            "\r\u001b[K     |███████▎                        | 10kB 21.1MB/s eta 0:00:01\r\u001b[K     |██████████████▋                 | 20kB 16.4MB/s eta 0:00:01\r\u001b[K     |█████████████████████▉          | 30kB 14.0MB/s eta 0:00:01\r\u001b[K     |█████████████████████████████▏  | 40kB 13.0MB/s eta 0:00:01\r\u001b[K     |████████████████████████████████| 51kB 4.4MB/s \n",
            "\u001b[?25hRequirement already satisfied: regex>=2017.12.12 in /usr/local/lib/python3.7/dist-packages (from sentence-splitter) (2019.12.20)\n",
            "Installing collected packages: sentence-splitter\n",
            "Successfully installed sentence-splitter-1.4\n"
          ],
          "name": "stdout"
        }
      ]
    },
    {
      "cell_type": "code",
      "metadata": {
        "colab": {
          "base_uri": "https://localhost:8080/"
        },
        "id": "iC5qgLjGu6CG",
        "outputId": "c1b42b3a-bcfa-4e6b-a515-b6faf4404641"
      },
      "source": [
        "!pip install transformers"
      ],
      "execution_count": 3,
      "outputs": [
        {
          "output_type": "stream",
          "text": [
            "Collecting transformers\n",
            "\u001b[?25l  Downloading https://files.pythonhosted.org/packages/d8/b2/57495b5309f09fa501866e225c84532d1fd89536ea62406b2181933fb418/transformers-4.5.1-py3-none-any.whl (2.1MB)\n",
            "\u001b[K     |████████████████████████████████| 2.1MB 9.1MB/s \n",
            "\u001b[?25hCollecting tokenizers<0.11,>=0.10.1\n",
            "\u001b[?25l  Downloading https://files.pythonhosted.org/packages/ae/04/5b870f26a858552025a62f1649c20d29d2672c02ff3c3fb4c688ca46467a/tokenizers-0.10.2-cp37-cp37m-manylinux2010_x86_64.whl (3.3MB)\n",
            "\u001b[K     |████████████████████████████████| 3.3MB 48.3MB/s \n",
            "\u001b[?25hRequirement already satisfied: requests in /usr/local/lib/python3.7/dist-packages (from transformers) (2.23.0)\n",
            "Requirement already satisfied: regex!=2019.12.17 in /usr/local/lib/python3.7/dist-packages (from transformers) (2019.12.20)\n",
            "Requirement already satisfied: importlib-metadata; python_version < \"3.8\" in /usr/local/lib/python3.7/dist-packages (from transformers) (3.10.1)\n",
            "Requirement already satisfied: numpy>=1.17 in /usr/local/lib/python3.7/dist-packages (from transformers) (1.19.5)\n",
            "Requirement already satisfied: packaging in /usr/local/lib/python3.7/dist-packages (from transformers) (20.9)\n",
            "Requirement already satisfied: filelock in /usr/local/lib/python3.7/dist-packages (from transformers) (3.0.12)\n",
            "Collecting sacremoses\n",
            "\u001b[?25l  Downloading https://files.pythonhosted.org/packages/08/cd/342e584ee544d044fb573ae697404ce22ede086c9e87ce5960772084cad0/sacremoses-0.0.44.tar.gz (862kB)\n",
            "\u001b[K     |████████████████████████████████| 870kB 26.9MB/s \n",
            "\u001b[?25hRequirement already satisfied: tqdm>=4.27 in /usr/local/lib/python3.7/dist-packages (from transformers) (4.41.1)\n",
            "Requirement already satisfied: chardet<4,>=3.0.2 in /usr/local/lib/python3.7/dist-packages (from requests->transformers) (3.0.4)\n",
            "Requirement already satisfied: certifi>=2017.4.17 in /usr/local/lib/python3.7/dist-packages (from requests->transformers) (2020.12.5)\n",
            "Requirement already satisfied: urllib3!=1.25.0,!=1.25.1,<1.26,>=1.21.1 in /usr/local/lib/python3.7/dist-packages (from requests->transformers) (1.24.3)\n",
            "Requirement already satisfied: idna<3,>=2.5 in /usr/local/lib/python3.7/dist-packages (from requests->transformers) (2.10)\n",
            "Requirement already satisfied: typing-extensions>=3.6.4; python_version < \"3.8\" in /usr/local/lib/python3.7/dist-packages (from importlib-metadata; python_version < \"3.8\"->transformers) (3.7.4.3)\n",
            "Requirement already satisfied: zipp>=0.5 in /usr/local/lib/python3.7/dist-packages (from importlib-metadata; python_version < \"3.8\"->transformers) (3.4.1)\n",
            "Requirement already satisfied: pyparsing>=2.0.2 in /usr/local/lib/python3.7/dist-packages (from packaging->transformers) (2.4.7)\n",
            "Requirement already satisfied: six in /usr/local/lib/python3.7/dist-packages (from sacremoses->transformers) (1.15.0)\n",
            "Requirement already satisfied: click in /usr/local/lib/python3.7/dist-packages (from sacremoses->transformers) (7.1.2)\n",
            "Requirement already satisfied: joblib in /usr/local/lib/python3.7/dist-packages (from sacremoses->transformers) (1.0.1)\n",
            "Building wheels for collected packages: sacremoses\n",
            "  Building wheel for sacremoses (setup.py) ... \u001b[?25l\u001b[?25hdone\n",
            "  Created wheel for sacremoses: filename=sacremoses-0.0.44-cp37-none-any.whl size=886084 sha256=d18c145f198e91f6bbe6cf7248d84e6e0783e5725f6be3aa541a72a81edc2e77\n",
            "  Stored in directory: /root/.cache/pip/wheels/3e/fb/c0/13ab4d63d537658f448366744654323077c4d90069b6512f3c\n",
            "Successfully built sacremoses\n",
            "Installing collected packages: tokenizers, sacremoses, transformers\n",
            "Successfully installed sacremoses-0.0.44 tokenizers-0.10.2 transformers-4.5.1\n"
          ],
          "name": "stdout"
        }
      ]
    },
    {
      "cell_type": "code",
      "metadata": {
        "colab": {
          "base_uri": "https://localhost:8080/"
        },
        "id": "7HTgNWwzvOhY",
        "outputId": "332c6dd2-5df5-4baf-efbf-f57b14f10bba"
      },
      "source": [
        "! pip install SentencePiece"
      ],
      "execution_count": 4,
      "outputs": [
        {
          "output_type": "stream",
          "text": [
            "Collecting SentencePiece\n",
            "\u001b[?25l  Downloading https://files.pythonhosted.org/packages/f5/99/e0808cb947ba10f575839c43e8fafc9cc44e4a7a2c8f79c60db48220a577/sentencepiece-0.1.95-cp37-cp37m-manylinux2014_x86_64.whl (1.2MB)\n",
            "\r\u001b[K     |▎                               | 10kB 23.3MB/s eta 0:00:01\r\u001b[K     |▌                               | 20kB 18.5MB/s eta 0:00:01\r\u001b[K     |▉                               | 30kB 15.3MB/s eta 0:00:01\r\u001b[K     |█                               | 40kB 14.1MB/s eta 0:00:01\r\u001b[K     |█▍                              | 51kB 9.4MB/s eta 0:00:01\r\u001b[K     |█▋                              | 61kB 10.9MB/s eta 0:00:01\r\u001b[K     |██                              | 71kB 10.1MB/s eta 0:00:01\r\u001b[K     |██▏                             | 81kB 11.0MB/s eta 0:00:01\r\u001b[K     |██▌                             | 92kB 10.5MB/s eta 0:00:01\r\u001b[K     |██▊                             | 102kB 9.1MB/s eta 0:00:01\r\u001b[K     |███                             | 112kB 9.1MB/s eta 0:00:01\r\u001b[K     |███▎                            | 122kB 9.1MB/s eta 0:00:01\r\u001b[K     |███▌                            | 133kB 9.1MB/s eta 0:00:01\r\u001b[K     |███▉                            | 143kB 9.1MB/s eta 0:00:01\r\u001b[K     |████                            | 153kB 9.1MB/s eta 0:00:01\r\u001b[K     |████▍                           | 163kB 9.1MB/s eta 0:00:01\r\u001b[K     |████▋                           | 174kB 9.1MB/s eta 0:00:01\r\u001b[K     |█████                           | 184kB 9.1MB/s eta 0:00:01\r\u001b[K     |█████▏                          | 194kB 9.1MB/s eta 0:00:01\r\u001b[K     |█████▌                          | 204kB 9.1MB/s eta 0:00:01\r\u001b[K     |█████▊                          | 215kB 9.1MB/s eta 0:00:01\r\u001b[K     |██████                          | 225kB 9.1MB/s eta 0:00:01\r\u001b[K     |██████▎                         | 235kB 9.1MB/s eta 0:00:01\r\u001b[K     |██████▌                         | 245kB 9.1MB/s eta 0:00:01\r\u001b[K     |██████▉                         | 256kB 9.1MB/s eta 0:00:01\r\u001b[K     |███████                         | 266kB 9.1MB/s eta 0:00:01\r\u001b[K     |███████▍                        | 276kB 9.1MB/s eta 0:00:01\r\u001b[K     |███████▋                        | 286kB 9.1MB/s eta 0:00:01\r\u001b[K     |████████                        | 296kB 9.1MB/s eta 0:00:01\r\u001b[K     |████████▏                       | 307kB 9.1MB/s eta 0:00:01\r\u001b[K     |████████▍                       | 317kB 9.1MB/s eta 0:00:01\r\u001b[K     |████████▊                       | 327kB 9.1MB/s eta 0:00:01\r\u001b[K     |█████████                       | 337kB 9.1MB/s eta 0:00:01\r\u001b[K     |█████████▎                      | 348kB 9.1MB/s eta 0:00:01\r\u001b[K     |█████████▌                      | 358kB 9.1MB/s eta 0:00:01\r\u001b[K     |█████████▉                      | 368kB 9.1MB/s eta 0:00:01\r\u001b[K     |██████████                      | 378kB 9.1MB/s eta 0:00:01\r\u001b[K     |██████████▍                     | 389kB 9.1MB/s eta 0:00:01\r\u001b[K     |██████████▋                     | 399kB 9.1MB/s eta 0:00:01\r\u001b[K     |███████████                     | 409kB 9.1MB/s eta 0:00:01\r\u001b[K     |███████████▏                    | 419kB 9.1MB/s eta 0:00:01\r\u001b[K     |███████████▍                    | 430kB 9.1MB/s eta 0:00:01\r\u001b[K     |███████████▊                    | 440kB 9.1MB/s eta 0:00:01\r\u001b[K     |████████████                    | 450kB 9.1MB/s eta 0:00:01\r\u001b[K     |████████████▎                   | 460kB 9.1MB/s eta 0:00:01\r\u001b[K     |████████████▌                   | 471kB 9.1MB/s eta 0:00:01\r\u001b[K     |████████████▉                   | 481kB 9.1MB/s eta 0:00:01\r\u001b[K     |█████████████                   | 491kB 9.1MB/s eta 0:00:01\r\u001b[K     |█████████████▍                  | 501kB 9.1MB/s eta 0:00:01\r\u001b[K     |█████████████▋                  | 512kB 9.1MB/s eta 0:00:01\r\u001b[K     |█████████████▉                  | 522kB 9.1MB/s eta 0:00:01\r\u001b[K     |██████████████▏                 | 532kB 9.1MB/s eta 0:00:01\r\u001b[K     |██████████████▍                 | 542kB 9.1MB/s eta 0:00:01\r\u001b[K     |██████████████▊                 | 552kB 9.1MB/s eta 0:00:01\r\u001b[K     |███████████████                 | 563kB 9.1MB/s eta 0:00:01\r\u001b[K     |███████████████▎                | 573kB 9.1MB/s eta 0:00:01\r\u001b[K     |███████████████▌                | 583kB 9.1MB/s eta 0:00:01\r\u001b[K     |███████████████▉                | 593kB 9.1MB/s eta 0:00:01\r\u001b[K     |████████████████                | 604kB 9.1MB/s eta 0:00:01\r\u001b[K     |████████████████▍               | 614kB 9.1MB/s eta 0:00:01\r\u001b[K     |████████████████▋               | 624kB 9.1MB/s eta 0:00:01\r\u001b[K     |████████████████▉               | 634kB 9.1MB/s eta 0:00:01\r\u001b[K     |█████████████████▏              | 645kB 9.1MB/s eta 0:00:01\r\u001b[K     |█████████████████▍              | 655kB 9.1MB/s eta 0:00:01\r\u001b[K     |█████████████████▊              | 665kB 9.1MB/s eta 0:00:01\r\u001b[K     |██████████████████              | 675kB 9.1MB/s eta 0:00:01\r\u001b[K     |██████████████████▎             | 686kB 9.1MB/s eta 0:00:01\r\u001b[K     |██████████████████▌             | 696kB 9.1MB/s eta 0:00:01\r\u001b[K     |██████████████████▉             | 706kB 9.1MB/s eta 0:00:01\r\u001b[K     |███████████████████             | 716kB 9.1MB/s eta 0:00:01\r\u001b[K     |███████████████████▎            | 727kB 9.1MB/s eta 0:00:01\r\u001b[K     |███████████████████▋            | 737kB 9.1MB/s eta 0:00:01\r\u001b[K     |███████████████████▉            | 747kB 9.1MB/s eta 0:00:01\r\u001b[K     |████████████████████▏           | 757kB 9.1MB/s eta 0:00:01\r\u001b[K     |████████████████████▍           | 768kB 9.1MB/s eta 0:00:01\r\u001b[K     |████████████████████▊           | 778kB 9.1MB/s eta 0:00:01\r\u001b[K     |█████████████████████           | 788kB 9.1MB/s eta 0:00:01\r\u001b[K     |█████████████████████▎          | 798kB 9.1MB/s eta 0:00:01\r\u001b[K     |█████████████████████▌          | 808kB 9.1MB/s eta 0:00:01\r\u001b[K     |█████████████████████▉          | 819kB 9.1MB/s eta 0:00:01\r\u001b[K     |██████████████████████          | 829kB 9.1MB/s eta 0:00:01\r\u001b[K     |██████████████████████▎         | 839kB 9.1MB/s eta 0:00:01\r\u001b[K     |██████████████████████▋         | 849kB 9.1MB/s eta 0:00:01\r\u001b[K     |██████████████████████▉         | 860kB 9.1MB/s eta 0:00:01\r\u001b[K     |███████████████████████▏        | 870kB 9.1MB/s eta 0:00:01\r\u001b[K     |███████████████████████▍        | 880kB 9.1MB/s eta 0:00:01\r\u001b[K     |███████████████████████▊        | 890kB 9.1MB/s eta 0:00:01\r\u001b[K     |████████████████████████        | 901kB 9.1MB/s eta 0:00:01\r\u001b[K     |████████████████████████▎       | 911kB 9.1MB/s eta 0:00:01\r\u001b[K     |████████████████████████▌       | 921kB 9.1MB/s eta 0:00:01\r\u001b[K     |████████████████████████▊       | 931kB 9.1MB/s eta 0:00:01\r\u001b[K     |█████████████████████████       | 942kB 9.1MB/s eta 0:00:01\r\u001b[K     |█████████████████████████▎      | 952kB 9.1MB/s eta 0:00:01\r\u001b[K     |█████████████████████████▋      | 962kB 9.1MB/s eta 0:00:01\r\u001b[K     |█████████████████████████▉      | 972kB 9.1MB/s eta 0:00:01\r\u001b[K     |██████████████████████████▏     | 983kB 9.1MB/s eta 0:00:01\r\u001b[K     |██████████████████████████▍     | 993kB 9.1MB/s eta 0:00:01\r\u001b[K     |██████████████████████████▊     | 1.0MB 9.1MB/s eta 0:00:01\r\u001b[K     |███████████████████████████     | 1.0MB 9.1MB/s eta 0:00:01\r\u001b[K     |███████████████████████████▎    | 1.0MB 9.1MB/s eta 0:00:01\r\u001b[K     |███████████████████████████▌    | 1.0MB 9.1MB/s eta 0:00:01\r\u001b[K     |███████████████████████████▊    | 1.0MB 9.1MB/s eta 0:00:01\r\u001b[K     |████████████████████████████    | 1.1MB 9.1MB/s eta 0:00:01\r\u001b[K     |████████████████████████████▎   | 1.1MB 9.1MB/s eta 0:00:01\r\u001b[K     |████████████████████████████▋   | 1.1MB 9.1MB/s eta 0:00:01\r\u001b[K     |████████████████████████████▉   | 1.1MB 9.1MB/s eta 0:00:01\r\u001b[K     |█████████████████████████████▏  | 1.1MB 9.1MB/s eta 0:00:01\r\u001b[K     |█████████████████████████████▍  | 1.1MB 9.1MB/s eta 0:00:01\r\u001b[K     |█████████████████████████████▊  | 1.1MB 9.1MB/s eta 0:00:01\r\u001b[K     |██████████████████████████████  | 1.1MB 9.1MB/s eta 0:00:01\r\u001b[K     |██████████████████████████████▏ | 1.1MB 9.1MB/s eta 0:00:01\r\u001b[K     |██████████████████████████████▌ | 1.1MB 9.1MB/s eta 0:00:01\r\u001b[K     |██████████████████████████████▊ | 1.2MB 9.1MB/s eta 0:00:01\r\u001b[K     |███████████████████████████████ | 1.2MB 9.1MB/s eta 0:00:01\r\u001b[K     |███████████████████████████████▎| 1.2MB 9.1MB/s eta 0:00:01\r\u001b[K     |███████████████████████████████▋| 1.2MB 9.1MB/s eta 0:00:01\r\u001b[K     |███████████████████████████████▉| 1.2MB 9.1MB/s eta 0:00:01\r\u001b[K     |████████████████████████████████| 1.2MB 9.1MB/s \n",
            "\u001b[?25hInstalling collected packages: SentencePiece\n",
            "Successfully installed SentencePiece-0.1.95\n"
          ],
          "name": "stdout"
        }
      ]
    },
    {
      "cell_type": "code",
      "metadata": {
        "colab": {
          "base_uri": "https://localhost:8080/",
          "height": 268,
          "referenced_widgets": [
            "b2df8daf71774726a90f769768e8ee87",
            "804942540f774701957425ccbf152da8",
            "122683e2aa8245b59251feb0f037c390",
            "7b0897f585c347c3aa59c03e89ef4874",
            "9872397c9ce648b2b763083374e2e9db",
            "4bee85289c3c4f3db720fd931ffb647f",
            "3c3ce7cec7bc4b66bb7c99a05fd339b5",
            "e10346711e564934ac0878ff2acc2493",
            "5d71e43b15784f0eb81a980b674d1760",
            "2717225702514f8aa76bd1959840981b",
            "28dd99299b244151bdb1588f2c7f106a",
            "51cbb0f3e7d54de1b9e46f74c8fd5d16",
            "b145956bd07740658f168c870753138b",
            "d6055c69248e4409b6b379bde5aa8b0c",
            "9f0602a14cc3448e94c129b943cdbb08",
            "0b0fc7ee40fe482f87ade58f1ed34418",
            "7337769e834e445796cf731ca3e4d502",
            "ccb0a69f095d4607b84b9e10eca3eae7",
            "1c0eec587133440c9e4e611a70a4ee1c",
            "6709320557e5437cb9cf149cdb1d3245",
            "24b820166cbb4e9781a58cae2a9d11dd",
            "0eedfb28c9b8474a8a5471482d54250a",
            "24534ce47a494e88979e9b5c50d67361",
            "2b1e385ae3f148aca14235f89cc4fa4b",
            "9cc8ba0dde134b19829fcdc4469cbc64",
            "492c7ea934d6468e93ad163c5c3b9b64",
            "8e4e3a8322e543bbac7a6e26d8ca8fbd",
            "72fd941d9f85446c81111dfb00e99946",
            "97cc4cafa5684a8a97d7d06421ac38ec",
            "d5216b813e0f4798a69e9ec2a0a6305b",
            "8e66fc3aab5346a0afd5a803637813ad",
            "a57b5f481ad941d2b27eb16bbf0bdfcf",
            "5493ffaab93d492d85d8b046520778d7",
            "63ca86167dd747f1a51e3a930ad5ecbc",
            "5f9401c5e73b4f0e82973f7d56b05736",
            "6836f7827c4f4c909bec18c77f631ca4",
            "83c1ac13610e4ae283b21a1f342c2c19",
            "0f9af07ea36e4811ad5e50023bc1d5a6",
            "b23bcf107b1d4e7faaec135d4e50b525",
            "3548ba50c2e04c9a9bee91a96184290b"
          ]
        },
        "id": "kNF9kb6kxhOG",
        "outputId": "03e6bd24-bdfd-4628-d2eb-aa3160d929cd"
      },
      "source": [
        "# https://huggingface.co/tuner007/pegasus_paraphrase\n",
        "\n",
        "import torch\n",
        "from transformers import PegasusForConditionalGeneration, PegasusTokenizer\n",
        "\n",
        "model_name = 'tuner007/pegasus_paraphrase'\n",
        "torch_device = 'cuda' if torch.cuda.is_available() else 'cpu'\n",
        "tokenizer = PegasusTokenizer.from_pretrained(model_name)\n",
        "model = PegasusForConditionalGeneration.from_pretrained(model_name).to(torch_device)\n",
        "\n",
        "def get_response(input_text, num_return_sequences):\n",
        "  batch = tokenizer.prepare_seq2seq_batch([input_text], truncation=True, padding='longest', max_length=60, return_tensors='pt').to(torch_device)\n",
        "\n",
        "  translated = model.generate(**batch,max_length=60,num_beams=10, num_return_sequences=num_return_sequences, temperature=1.5)\n",
        "  tgt_text = tokenizer.batch_decode(translated, skip_special_tokens=True)\n",
        "  return tgt_text"
      ],
      "execution_count": 5,
      "outputs": [
        {
          "output_type": "display_data",
          "data": {
            "application/vnd.jupyter.widget-view+json": {
              "model_id": "b2df8daf71774726a90f769768e8ee87",
              "version_minor": 0,
              "version_major": 2
            },
            "text/plain": [
              "HBox(children=(FloatProgress(value=0.0, description='Downloading', max=1912529.0, style=ProgressStyle(descript…"
            ]
          },
          "metadata": {
            "tags": []
          }
        },
        {
          "output_type": "stream",
          "text": [
            "\n"
          ],
          "name": "stdout"
        },
        {
          "output_type": "display_data",
          "data": {
            "application/vnd.jupyter.widget-view+json": {
              "model_id": "5d71e43b15784f0eb81a980b674d1760",
              "version_minor": 0,
              "version_major": 2
            },
            "text/plain": [
              "HBox(children=(FloatProgress(value=0.0, description='Downloading', max=65.0, style=ProgressStyle(description_w…"
            ]
          },
          "metadata": {
            "tags": []
          }
        },
        {
          "output_type": "stream",
          "text": [
            "\n"
          ],
          "name": "stdout"
        },
        {
          "output_type": "display_data",
          "data": {
            "application/vnd.jupyter.widget-view+json": {
              "model_id": "7337769e834e445796cf731ca3e4d502",
              "version_minor": 0,
              "version_major": 2
            },
            "text/plain": [
              "HBox(children=(FloatProgress(value=0.0, description='Downloading', max=86.0, style=ProgressStyle(description_w…"
            ]
          },
          "metadata": {
            "tags": []
          }
        },
        {
          "output_type": "stream",
          "text": [
            "\n"
          ],
          "name": "stdout"
        },
        {
          "output_type": "display_data",
          "data": {
            "application/vnd.jupyter.widget-view+json": {
              "model_id": "9cc8ba0dde134b19829fcdc4469cbc64",
              "version_minor": 0,
              "version_major": 2
            },
            "text/plain": [
              "HBox(children=(FloatProgress(value=0.0, description='Downloading', max=1142.0, style=ProgressStyle(description…"
            ]
          },
          "metadata": {
            "tags": []
          }
        },
        {
          "output_type": "stream",
          "text": [
            "\n"
          ],
          "name": "stdout"
        },
        {
          "output_type": "display_data",
          "data": {
            "application/vnd.jupyter.widget-view+json": {
              "model_id": "5493ffaab93d492d85d8b046520778d7",
              "version_minor": 0,
              "version_major": 2
            },
            "text/plain": [
              "HBox(children=(FloatProgress(value=0.0, description='Downloading', max=2275437102.0, style=ProgressStyle(descr…"
            ]
          },
          "metadata": {
            "tags": []
          }
        },
        {
          "output_type": "stream",
          "text": [
            "\n"
          ],
          "name": "stdout"
        }
      ]
    },
    {
      "cell_type": "markdown",
      "metadata": {
        "id": "FpdHwOLf1pSo"
      },
      "source": [
        "## Processing a single sentence"
      ]
    },
    {
      "cell_type": "code",
      "metadata": {
        "id": "D6b0qmJZ1wuN"
      },
      "source": [
        "text = \"In this video, I will be showing you how to build a stock price web application in Python using the Streamlit and yfinance library.\""
      ],
      "execution_count": 7,
      "outputs": []
    },
    {
      "cell_type": "code",
      "metadata": {
        "colab": {
          "base_uri": "https://localhost:8080/"
        },
        "id": "3zkemRze14gK",
        "outputId": "d8a13d69-302c-4d87-b96a-14b633933b8e"
      },
      "source": [
        "get_response(text, 5)"
      ],
      "execution_count": 8,
      "outputs": [
        {
          "output_type": "stream",
          "text": [
            "/usr/local/lib/python3.7/dist-packages/transformers/tokenization_utils_base.py:3226: FutureWarning: `prepare_seq2seq_batch` is deprecated and will be removed in version 5 of 🤗 Transformers. Use the regular `__call__` method to prepare your inputs and the tokenizer under the `with_target_tokenizer` context manager to prepare your targets. See the documentation of your specific tokenizer for more details\n",
            "  FutureWarning,\n"
          ],
          "name": "stderr"
        },
        {
          "output_type": "execute_result",
          "data": {
            "text/plain": [
              "['In this video, I will show you how to use the Streamlit and yfinance libraries to build a stock price web application.',\n",
              " 'In this video, I will show you how to build a stock price web application in Python using the Streamlit and yfinance libraries.',\n",
              " 'In this video, I will show you how to build a stock price web application using the Streamlit and yfinance libraries.',\n",
              " 'In this video, I will show you how to use the Streamlit and yfinance libraries to build a stock price web application in Python.',\n",
              " 'In this video, I will show you how to use the Streamlit and yfinance library to build a stock price web application.']"
            ]
          },
          "metadata": {
            "tags": []
          },
          "execution_count": 8
        }
      ]
    },
    {
      "cell_type": "code",
      "metadata": {
        "colab": {
          "base_uri": "https://localhost:8080/"
        },
        "id": "dK75gagl2ont",
        "outputId": "5755f3ec-90fb-4f0e-f3bf-1bd9f7934bda"
      },
      "source": [
        "get_response(text, 1)"
      ],
      "execution_count": 10,
      "outputs": [
        {
          "output_type": "stream",
          "text": [
            "/usr/local/lib/python3.7/dist-packages/transformers/tokenization_utils_base.py:3226: FutureWarning: `prepare_seq2seq_batch` is deprecated and will be removed in version 5 of 🤗 Transformers. Use the regular `__call__` method to prepare your inputs and the tokenizer under the `with_target_tokenizer` context manager to prepare your targets. See the documentation of your specific tokenizer for more details\n",
            "  FutureWarning,\n"
          ],
          "name": "stderr"
        },
        {
          "output_type": "execute_result",
          "data": {
            "text/plain": [
              "['In this video, I will show you how to use the Streamlit and yfinance libraries to build a stock price web application.']"
            ]
          },
          "metadata": {
            "tags": []
          },
          "execution_count": 10
        }
      ]
    },
    {
      "cell_type": "markdown",
      "metadata": {
        "id": "UrfGn3xW29ZP"
      },
      "source": [
        "### Processing a paragraph of text"
      ]
    },
    {
      "cell_type": "code",
      "metadata": {
        "colab": {
          "base_uri": "https://localhost:8080/"
        },
        "id": "obfNVIKt3A0x",
        "outputId": "9a63df6f-a110-47a7-cffc-98e414f4fc31"
      },
      "source": [
        "# paragraph of text\n",
        "#context = \"In this video, I will be showing you how to build a stock price web application in Python using the Streamlit and yfinance library. The app will be able to retrieve company information as well as the stock price data for S and P 500 companies. All of this in less than 50 lines of code.\"\n",
        "context = \"Maybe the abuse is not really that bad. Sure, he is violent but he can also be really nice and fun. I know she loves me but she just does not know how to show it. Maybe I am remembering things wrong.\"\n",
        "print(context)"
      ],
      "execution_count": 33,
      "outputs": [
        {
          "output_type": "stream",
          "text": [
            "Maybe the abuse is not really that bad. Sure, he is violent but he can also be really nice and fun. I know she loves me but she just does not know how to show it. Maybe I am remembering things wrong.\n"
          ],
          "name": "stdout"
        }
      ]
    },
    {
      "cell_type": "code",
      "metadata": {
        "colab": {
          "base_uri": "https://localhost:8080/"
        },
        "id": "XQ0GVeVo3B_v",
        "outputId": "2a0fc6ac-218a-4f0d-e466-7d15f0baac39"
      },
      "source": [
        " # Takes the input paragraph and splits it into a list of sentences\n",
        "from sentence_splitter import SentenceSplitter, split_text_into_sentences\n",
        "\n",
        " splitter = SentenceSplitter(language='en')\n",
        "\n",
        " sentence_list = splitter.split(context)\n",
        " sentence_list "
      ],
      "execution_count": 34,
      "outputs": [
        {
          "output_type": "execute_result",
          "data": {
            "text/plain": [
              "['Maybe the abuse is not really that bad.',\n",
              " 'Sure, he is violent but he can also be really nice and fun.',\n",
              " 'I know she loves me but she just does not know how to show it.',\n",
              " 'Maybe I am remembering things wrong.']"
            ]
          },
          "metadata": {
            "tags": []
          },
          "execution_count": 34
        }
      ]
    },
    {
      "cell_type": "code",
      "metadata": {
        "colab": {
          "base_uri": "https://localhost:8080/"
        },
        "id": "UoJe7ntv4zE4",
        "outputId": "7ba06414-a30d-41df-fc83-9459b47b79fe"
      },
      "source": [
        "# Do a for loop to iterate through the list of sentences and paraphrase each sentence in the iteration\n",
        "paraphrase = []\n",
        "\n",
        "for i in sentence_list:\n",
        "  a = get_response(i,1)\n",
        "  paraphrase.append(a)\n"
      ],
      "execution_count": 35,
      "outputs": [
        {
          "output_type": "stream",
          "text": [
            "/usr/local/lib/python3.7/dist-packages/transformers/tokenization_utils_base.py:3226: FutureWarning: `prepare_seq2seq_batch` is deprecated and will be removed in version 5 of 🤗 Transformers. Use the regular `__call__` method to prepare your inputs and the tokenizer under the `with_target_tokenizer` context manager to prepare your targets. See the documentation of your specific tokenizer for more details\n",
            "  FutureWarning,\n"
          ],
          "name": "stderr"
        }
      ]
    },
    {
      "cell_type": "code",
      "metadata": {
        "colab": {
          "base_uri": "https://localhost:8080/"
        },
        "id": "RgEPdxB55Twl",
        "outputId": "7011ed9b-664a-4529-c0de-24d6f7ea3b1f"
      },
      "source": [
        "# This is the paraphrased text\n",
        "paraphrase"
      ],
      "execution_count": 36,
      "outputs": [
        {
          "output_type": "execute_result",
          "data": {
            "text/plain": [
              "[['Maybe the abuse is not that bad.'],\n",
              " ['He can be violent but also fun.'],\n",
              " [\"She doesn't know how to show her love for me.\"],\n",
              " ['Maybe I am forgetting something.']]"
            ]
          },
          "metadata": {
            "tags": []
          },
          "execution_count": 36
        }
      ]
    },
    {
      "cell_type": "code",
      "metadata": {
        "colab": {
          "base_uri": "https://localhost:8080/"
        },
        "id": "FB6VSMLx5nAE",
        "outputId": "c702724a-d30d-4c44-9243-7e1b36445219"
      },
      "source": [
        "paraphrase2 = [' '.join(x) for x in paraphrase]\n",
        "paraphrase2"
      ],
      "execution_count": 37,
      "outputs": [
        {
          "output_type": "execute_result",
          "data": {
            "text/plain": [
              "['Maybe the abuse is not that bad.',\n",
              " 'He can be violent but also fun.',\n",
              " \"She doesn't know how to show her love for me.\",\n",
              " 'Maybe I am forgetting something.']"
            ]
          },
          "metadata": {
            "tags": []
          },
          "execution_count": 37
        }
      ]
    },
    {
      "cell_type": "code",
      "metadata": {
        "colab": {
          "base_uri": "https://localhost:8080/",
          "height": 54
        },
        "id": "KbdlHAEs6BE2",
        "outputId": "469dfeba-1146-423d-cacc-1dcf960d379c"
      },
      "source": [
        "# Combines the above list into a paragrapgh\n",
        "paraphrase3 = [' '.join(x for x in paraphrase2)]\n",
        "paraphrased_text = str(paraphrase3).strip('[]').strip(\"'\")\n",
        "paraphrased_text"
      ],
      "execution_count": 38,
      "outputs": [
        {
          "output_type": "execute_result",
          "data": {
            "application/vnd.google.colaboratory.intrinsic+json": {
              "type": "string"
            },
            "text/plain": [
              "'\"Maybe the abuse is not that bad. He can be violent but also fun. She doesn\\'t know how to show her love for me. Maybe I am forgetting something.\"'"
            ]
          },
          "metadata": {
            "tags": []
          },
          "execution_count": 38
        }
      ]
    },
    {
      "cell_type": "code",
      "metadata": {
        "colab": {
          "base_uri": "https://localhost:8080/"
        },
        "id": "riS0ZvMz66Br",
        "outputId": "fccb96f9-682b-4107-fbba-10eed3127322"
      },
      "source": [
        "# Comparison of the original (context variable) ad the paraphrased version(paraphrase3)\n",
        "print(context)\n",
        "print(paraphrased_text)"
      ],
      "execution_count": 39,
      "outputs": [
        {
          "output_type": "stream",
          "text": [
            "Maybe the abuse is not really that bad. Sure, he is violent but he can also be really nice and fun. I know she loves me but she just does not know how to show it. Maybe I am remembering things wrong.\n",
            "\"Maybe the abuse is not that bad. He can be violent but also fun. She doesn't know how to show her love for me. Maybe I am forgetting something.\"\n"
          ],
          "name": "stdout"
        }
      ]
    }
  ]
}